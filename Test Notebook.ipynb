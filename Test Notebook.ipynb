{
 "cells": [
  {
   "cell_type": "code",
   "execution_count": 9,
   "metadata": {
    "application/vnd.databricks.v1+cell": {
     "cellMetadata": {
      "byteLimit": 2048000,
      "rowLimit": 10000
     },
     "inputWidgets": {},
     "nuid": "c51c3d9a-8168-4685-800a-d3fd18ead687",
     "showTitle": false,
     "title": ""
    }
   },
   "outputs": [
    {
     "data": {
      "application/vnd.jupyter.widget-view+json": {
       "model_id": "076fb21606b64e2398772c6173621ea0",
       "version_major": 2,
       "version_minor": 0
      },
      "text/plain": [
       "Box(children=(Label(value='limit'), Text(value='10')))"
      ]
     },
     "metadata": {},
     "output_type": "display_data"
    },
    {
     "data": {
      "application/vnd.jupyter.widget-view+json": {
       "model_id": "671cf6a427354bd4898a9849538590d8",
       "version_major": 2,
       "version_minor": 0
      },
      "text/plain": [
       "Box(children=(Label(value='data_source_url'), Text(value='')))"
      ]
     },
     "metadata": {},
     "output_type": "display_data"
    }
   ],
   "source": [
    "dbutils.widgets.text(\"limit\", \"10\")\n",
    "dbutils.widgets.text(\"data_source_url\", \"\")"
   ]
  },
  {
   "cell_type": "markdown",
   "metadata": {
    "application/vnd.databricks.v1+cell": {
     "cellMetadata": {},
     "inputWidgets": {},
     "nuid": "3a238f01-acf3-45fa-bf8c-83de6a8bb4c2",
     "showTitle": false,
     "title": ""
    }
   },
   "source": [
    "# Download and analyse external data"
   ]
  },
  {
   "cell_type": "code",
   "execution_count": 10,
   "metadata": {
    "application/vnd.databricks.v1+cell": {
     "cellMetadata": {
      "byteLimit": 2048000,
      "rowLimit": 10000
     },
     "inputWidgets": {},
     "nuid": "9df17032-439c-4cf2-889f-ec07225ecf3b",
     "showTitle": false,
     "title": ""
    }
   },
   "outputs": [],
   "source": [
    "data_source_url=dbutils.widgets.get(\"data_source_url\")"
   ]
  },
  {
   "cell_type": "code",
   "execution_count": 11,
   "metadata": {
    "application/vnd.databricks.v1+cell": {
     "cellMetadata": {
      "byteLimit": 2048000,
      "rowLimit": 10000
     },
     "inputWidgets": {},
     "nuid": "6f030877-6acd-4b8e-a04a-b7455b8f767e",
     "showTitle": false,
     "title": ""
    }
   },
   "outputs": [
    {
     "name": "stderr",
     "output_type": "stream",
     "text": [
      "/Users/kartik.gupta/temp/notebook-test/.venv/lib/python3.11/site-packages/pyspark/sql/connect/session.py:368: FutureWarning: is_datetime64tz_dtype is deprecated and will be removed in a future version. Check `isinstance(dtype, pd.DatetimeTZDtype)` instead.\n",
      "  if is_datetime64_dtype(t) or is_datetime64tz_dtype(t)\n",
      "/Users/kartik.gupta/temp/notebook-test/.venv/lib/python3.11/site-packages/pyspark/sql/pandas/serializers.py:256: FutureWarning: is_categorical_dtype is deprecated and will be removed in a future version. Use isinstance(dtype, CategoricalDtype) instead\n",
      "  if is_categorical_dtype(series.dtype):\n"
     ]
    },
    {
     "name": "stdout",
     "output_type": "stream",
     "text": [
      "+--------------------+--------------------+------------+-------------+--------------+------------+--------------------+-----------------+----------+------------------+---------------+-------------------+----------------+----------------+---+----+-----+--------------+---------+--------+--------------+------------------+----------+-------------+\n",
      "|          track_name|      artist(s)_name|artist_count|released_year|released_month|released_day|in_spotify_playlists|in_spotify_charts|   streams|in_apple_playlists|in_apple_charts|in_deezer_playlists|in_deezer_charts|in_shazam_charts|bpm| key| mode|danceability_%|valence_%|energy_%|acousticness_%|instrumentalness_%|liveness_%|speechiness_%|\n",
      "+--------------------+--------------------+------------+-------------+--------------+------------+--------------------+-----------------+----------+------------------+---------------+-------------------+----------------+----------------+---+----+-----+--------------+---------+--------+--------------+------------------+----------+-------------+\n",
      "|Seven (feat. Latt...|    Latto, Jung Kook|           2|         2023|             7|          14|                 553|              147| 141381703|                43|            263|                 45|              10|             826|125|   B|Major|            80|       89|      83|            31|                 0|         8|            4|\n",
      "|                LALA|         Myke Towers|           1|         2023|             3|          23|                1474|               48| 133716286|                48|            126|                 58|              14|             382| 92|  C#|Major|            71|       61|      74|             7|                 0|        10|            4|\n",
      "|             vampire|      Olivia Rodrigo|           1|         2023|             6|          30|                1397|              113| 140003974|                94|            207|                 91|              14|             949|138|   F|Major|            51|       32|      53|            17|                 0|        31|            6|\n",
      "|        Cruel Summer|        Taylor Swift|           1|         2019|             8|          23|                7858|              100| 800840817|               116|            207|                125|              12|             548|170|   A|Major|            55|       58|      72|            11|                 0|        11|           15|\n",
      "|      WHERE SHE GOES|           Bad Bunny|           1|         2023|             5|          18|                3133|               50| 303236322|                84|            133|                 87|              15|             425|144|   A|Minor|            65|       23|      80|            14|                63|        11|            6|\n",
      "|            Sprinter|   Dave, Central Cee|           2|         2023|             6|           1|                2186|               91| 183706234|                67|            213|                 88|              17|             946|141|  C#|Major|            92|       66|      58|            19|                 0|         8|           24|\n",
      "|     Ella Baila Sola|Eslabon Armado, P...|           2|         2023|             3|          16|                3090|               50| 725980112|                34|            222|                 43|              13|             418|148|   F|Minor|            67|       83|      76|            48|                 0|         8|            3|\n",
      "|            Columbia|             Quevedo|           1|         2023|             7|           7|                 714|               43|  58149378|                25|             89|                 30|              13|             194|100|   F|Major|            67|       26|      71|            37|                 0|        11|            4|\n",
      "|            fukumean|               Gunna|           1|         2023|             5|          15|                1096|               83|  95217315|                60|            210|                 48|              11|             953|130|  C#|Minor|            85|       22|      62|            12|                 0|        28|            9|\n",
      "|     La Bebe - Remix|Peso Pluma, Yng L...|           2|         2023|             3|          17|                2953|               44| 553634067|                49|            110|                 66|              13|             339|170|   D|Minor|            81|       56|      48|            21|                 0|         8|           33|\n",
      "|           un x100to|Bad Bunny, Grupo ...|           2|         2023|             4|          17|                2876|               40| 505671438|                41|            205|                 54|              12|             251| 83|  F#|Minor|            57|       56|      72|            23|                 0|        27|            5|\n",
      "|           Super Shy|            NewJeans|           1|         2023|             7|           7|                 422|               55|  58255150|                37|            202|                 21|               5|             168|150|   F|Minor|            78|       52|      82|            18|                 0|        15|            7|\n",
      "|             Flowers|         Miley Cyrus|           1|         2023|             1|          12|               12211|              115|1316855716|               300|            215|                745|              58|           1,021|118|NULL|Major|            71|       65|      68|             6|                 0|         3|            7|\n",
      "|            Daylight|       David Kushner|           1|         2023|             4|          14|                3528|               98| 387570742|                80|            156|                182|              24|           1,281|130|   D|Minor|            51|       32|      43|            83|                 0|         9|            3|\n",
      "|           As It Was|        Harry Styles|           1|         2022|             3|          31|               23575|              130|2513188493|               403|            198|                863|              46|            NULL|174|  F#|Minor|            52|       66|      73|            34|                 0|        31|            6|\n",
      "|           Kill Bill|                 SZA|           1|         2022|            12|           8|                8109|               77|1163093654|               183|            162|                161|              12|             187| 89|  G#|Major|            64|       43|      73|             5|                17|        16|            4|\n",
      "|   Cupid - Twin Ver.|         Fifty Fifty|           1|         2023|             2|          24|                2942|               77| 496795686|                91|            212|                 78|               6|               0|120|   B|Minor|            78|       76|      59|            43|                 0|        34|            3|\n",
      "|What Was I Made F...|       Billie Eilish|           1|         2023|             7|          13|                 873|              104|  30546883|                80|            227|                 95|              24|           1,173| 78|NULL|Major|            44|       14|       9|            96|                 0|        10|            3|\n",
      "|          Classy 101|    Feid, Young Miko|           2|         2023|             3|          31|                2610|               40| 335222234|                43|            100|                 54|              14|             187|100|   B|Major|            86|       67|      66|            14|                 0|        12|           16|\n",
      "|          Like Crazy|               Jimin|           1|         2023|             3|          24|                 596|               68| 363369738|                 8|            104|                 23|               2|              29|120|   G|Major|            63|       36|      73|             0|                 0|        36|            4|\n",
      "+--------------------+--------------------+------------+-------------+--------------+------------+--------------------+-----------------+----------+------------------+---------------+-------------------+----------------+----------------+---+----+-----+--------------+---------+--------+--------------+------------------+----------+-------------+\n",
      "only showing top 20 rows\n",
      "\n"
     ]
    }
   ],
   "source": [
    "%run ./download_dataset"
   ]
  },
  {
   "cell_type": "code",
   "execution_count": 4,
   "metadata": {
    "application/vnd.databricks.v1+cell": {
     "cellMetadata": {
      "byteLimit": 2048000,
      "rowLimit": 10000
     },
     "inputWidgets": {},
     "nuid": "3caa08fe-55ca-4f6d-adee-b63a3b116e68",
     "showTitle": false,
     "title": ""
    }
   },
   "outputs": [
    {
     "data": {
      "text/html": [
       "<table border=\"1\" class=\"dataframe\">\n",
       "  <thead>\n",
       "    <tr style=\"text-align: right;\">\n",
       "      <th></th>\n",
       "      <th>summary</th>\n",
       "      <th>track_name</th>\n",
       "      <th>artist(s)_name</th>\n",
       "      <th>artist_count</th>\n",
       "      <th>released_year</th>\n",
       "      <th>released_month</th>\n",
       "      <th>released_day</th>\n",
       "      <th>in_spotify_playlists</th>\n",
       "      <th>in_spotify_charts</th>\n",
       "      <th>streams</th>\n",
       "      <th>in_apple_playlists</th>\n",
       "      <th>in_apple_charts</th>\n",
       "      <th>in_deezer_playlists</th>\n",
       "      <th>in_deezer_charts</th>\n",
       "      <th>in_shazam_charts</th>\n",
       "      <th>bpm</th>\n",
       "      <th>key</th>\n",
       "      <th>mode</th>\n",
       "      <th>danceability_%</th>\n",
       "      <th>valence_%</th>\n",
       "      <th>energy_%</th>\n",
       "      <th>acousticness_%</th>\n",
       "      <th>instrumentalness_%</th>\n",
       "      <th>liveness_%</th>\n",
       "      <th>speechiness_%</th>\n",
       "    </tr>\n",
       "  </thead>\n",
       "  <tbody>\n",
       "    <tr>\n",
       "      <th>0</th>\n",
       "      <td>count</td>\n",
       "      <td>953</td>\n",
       "      <td>953</td>\n",
       "      <td>953</td>\n",
       "      <td>953</td>\n",
       "      <td>953</td>\n",
       "      <td>953</td>\n",
       "      <td>953</td>\n",
       "      <td>953</td>\n",
       "      <td>953</td>\n",
       "      <td>953</td>\n",
       "      <td>953</td>\n",
       "      <td>953</td>\n",
       "      <td>953</td>\n",
       "      <td>903</td>\n",
       "      <td>953</td>\n",
       "      <td>858</td>\n",
       "      <td>953</td>\n",
       "      <td>953</td>\n",
       "      <td>953</td>\n",
       "      <td>953</td>\n",
       "      <td>953</td>\n",
       "      <td>953</td>\n",
       "      <td>953</td>\n",
       "      <td>953</td>\n",
       "    </tr>\n",
       "    <tr>\n",
       "      <th>1</th>\n",
       "      <td>mean</td>\n",
       "      <td>Infinity</td>\n",
       "      <td>None</td>\n",
       "      <td>1.5561385099685205</td>\n",
       "      <td>2018.2381951731375</td>\n",
       "      <td>6.033578174186778</td>\n",
       "      <td>13.930745015739769</td>\n",
       "      <td>5200.124868835257</td>\n",
       "      <td>12.009443861490032</td>\n",
       "      <td>5.1413742493907565E8</td>\n",
       "      <td>67.8121720881427</td>\n",
       "      <td>51.9087093389297</td>\n",
       "      <td>109.74027459954233</td>\n",
       "      <td>2.666316894018888</td>\n",
       "      <td>51.176339285714285</td>\n",
       "      <td>122.54039874081847</td>\n",
       "      <td>None</td>\n",
       "      <td>None</td>\n",
       "      <td>66.96956977964324</td>\n",
       "      <td>51.43126967471144</td>\n",
       "      <td>64.2791185729276</td>\n",
       "      <td>27.057712486883524</td>\n",
       "      <td>1.5813221406086044</td>\n",
       "      <td>18.213011542497377</td>\n",
       "      <td>10.131164742917104</td>\n",
       "    </tr>\n",
       "    <tr>\n",
       "      <th>2</th>\n",
       "      <td>stddev</td>\n",
       "      <td>NaN</td>\n",
       "      <td>None</td>\n",
       "      <td>0.8930441928452748</td>\n",
       "      <td>11.116218075505829</td>\n",
       "      <td>3.566435132898143</td>\n",
       "      <td>9.201949303162996</td>\n",
       "      <td>7897.608990375098</td>\n",
       "      <td>19.5759916360557</td>\n",
       "      <td>5.66856949038883E8</td>\n",
       "      <td>86.44149293264282</td>\n",
       "      <td>50.63024075697995</td>\n",
       "      <td>178.81140609266598</td>\n",
       "      <td>6.0355989423378675</td>\n",
       "      <td>126.48785636676818</td>\n",
       "      <td>28.057801508156174</td>\n",
       "      <td>None</td>\n",
       "      <td>None</td>\n",
       "      <td>14.630609874434809</td>\n",
       "      <td>23.48063183989133</td>\n",
       "      <td>16.550525977945235</td>\n",
       "      <td>25.996077310203738</td>\n",
       "      <td>8.409799926557698</td>\n",
       "      <td>13.7112233461488</td>\n",
       "      <td>9.912887609763244</td>\n",
       "    </tr>\n",
       "    <tr>\n",
       "      <th>3</th>\n",
       "      <td>min</td>\n",
       "      <td>'Till I Collapse</td>\n",
       "      <td>(G)I-DLE</td>\n",
       "      <td>1</td>\n",
       "      <td>1930</td>\n",
       "      <td>1</td>\n",
       "      <td>1</td>\n",
       "      <td>31</td>\n",
       "      <td>0</td>\n",
       "      <td>100409613</td>\n",
       "      <td>0</td>\n",
       "      <td>0</td>\n",
       "      <td>0</td>\n",
       "      <td>0</td>\n",
       "      <td>0</td>\n",
       "      <td>65</td>\n",
       "      <td>A</td>\n",
       "      <td>Major</td>\n",
       "      <td>23</td>\n",
       "      <td>4</td>\n",
       "      <td>9</td>\n",
       "      <td>0</td>\n",
       "      <td>0</td>\n",
       "      <td>3</td>\n",
       "      <td>2</td>\n",
       "    </tr>\n",
       "    <tr>\n",
       "      <th>4</th>\n",
       "      <td>max</td>\n",
       "      <td>ýýýýýýýýýýýýýýýýýýýýý</td>\n",
       "      <td>teto</td>\n",
       "      <td>8</td>\n",
       "      <td>2023</td>\n",
       "      <td>12</td>\n",
       "      <td>31</td>\n",
       "      <td>52898</td>\n",
       "      <td>147</td>\n",
       "      <td>BPM110KeyAModeMajorDanceability53Valence75Energy69Acousticness7Instrumentalness0Liveness17Speechiness3</td>\n",
       "      <td>672</td>\n",
       "      <td>275</td>\n",
       "      <td>99</td>\n",
       "      <td>58</td>\n",
       "      <td>99</td>\n",
       "      <td>206</td>\n",
       "      <td>G#</td>\n",
       "      <td>Minor</td>\n",
       "      <td>96</td>\n",
       "      <td>97</td>\n",
       "      <td>97</td>\n",
       "      <td>97</td>\n",
       "      <td>91</td>\n",
       "      <td>97</td>\n",
       "      <td>64</td>\n",
       "    </tr>\n",
       "  </tbody>\n",
       "</table>"
      ],
      "text/plain": [
       "DataFrame[summary: string, track_name: string, artist(s)_name: string, artist_count: string, released_year: string, released_month: string, released_day: string, in_spotify_playlists: string, in_spotify_charts: string, streams: string, in_apple_playlists: string, in_apple_charts: string, in_deezer_playlists: string, in_deezer_charts: string, in_shazam_charts: string, bpm: string, key: string, mode: string, danceability_%: string, valence_%: string, energy_%: string, acousticness_%: string, instrumentalness_%: string, liveness_%: string, speechiness_%: string]"
      ]
     },
     "execution_count": 4,
     "metadata": {},
     "output_type": "execute_result"
    }
   ],
   "source": [
    "df.describe()"
   ]
  },
  {
   "cell_type": "code",
   "execution_count": 5,
   "metadata": {
    "application/vnd.databricks.v1+cell": {
     "cellMetadata": {
      "byteLimit": 2048000,
      "rowLimit": 10000
     },
     "inputWidgets": {},
     "nuid": "90d70509-ccd6-4a0f-9642-b14fd1c9f20d",
     "showTitle": false,
     "title": ""
    }
   },
   "outputs": [
    {
     "name": "stderr",
     "output_type": "stream",
     "text": [
      "/var/folders/64/wjp913c52hbf4sfsfcymm5gm0000gp/T/ipykernel_53970/395576651.py:11: FutureWarning: \n",
      "\n",
      "Passing `palette` without assigning `hue` is deprecated and will be removed in v0.14.0. Assign the `x` variable to `hue` and set `legend=False` for the same effect.\n",
      "\n",
      "  sns.barplot(x=top_artists[\"artist(s)_name\"], y=top_artists[\"count\"], palette='viridis')\n"
     ]
    },
    {
     "data": {
      "image/png": "[encoded data removed]",
      "text/plain": [
       "<Figure size 1200x600 with 1 Axes>"
      ]
     },
     "metadata": {},
     "output_type": "display_data"
    },
    {
     "data": {
      "text/html": [
       "<div>\n",
       "<style scoped>\n",
       "    .dataframe tbody tr th:only-of-type {\n",
       "        vertical-align: middle;\n",
       "    }\n",
       "\n",
       "    .dataframe tbody tr th {\n",
       "        vertical-align: top;\n",
       "    }\n",
       "\n",
       "    .dataframe thead th {\n",
       "        text-align: right;\n",
       "    }\n",
       "</style>\n",
       "<table border=\"1\" class=\"dataframe\">\n",
       "  <thead>\n",
       "    <tr style=\"text-align: right;\">\n",
       "      <th></th>\n",
       "      <th>artist(s)_name</th>\n",
       "      <th>count</th>\n",
       "    </tr>\n",
       "  </thead>\n",
       "  <tbody>\n",
       "    <tr>\n",
       "      <th>0</th>\n",
       "      <td>Taylor Swift</td>\n",
       "      <td>34</td>\n",
       "    </tr>\n",
       "    <tr>\n",
       "      <th>1</th>\n",
       "      <td>The Weeknd</td>\n",
       "      <td>22</td>\n",
       "    </tr>\n",
       "    <tr>\n",
       "      <th>2</th>\n",
       "      <td>Bad Bunny</td>\n",
       "      <td>19</td>\n",
       "    </tr>\n",
       "    <tr>\n",
       "      <th>3</th>\n",
       "      <td>SZA</td>\n",
       "      <td>19</td>\n",
       "    </tr>\n",
       "    <tr>\n",
       "      <th>4</th>\n",
       "      <td>Harry Styles</td>\n",
       "      <td>17</td>\n",
       "    </tr>\n",
       "    <tr>\n",
       "      <th>5</th>\n",
       "      <td>Kendrick Lamar</td>\n",
       "      <td>12</td>\n",
       "    </tr>\n",
       "    <tr>\n",
       "      <th>6</th>\n",
       "      <td>Morgan Wallen</td>\n",
       "      <td>11</td>\n",
       "    </tr>\n",
       "    <tr>\n",
       "      <th>7</th>\n",
       "      <td>Ed Sheeran</td>\n",
       "      <td>9</td>\n",
       "    </tr>\n",
       "    <tr>\n",
       "      <th>8</th>\n",
       "      <td>Feid</td>\n",
       "      <td>8</td>\n",
       "    </tr>\n",
       "    <tr>\n",
       "      <th>9</th>\n",
       "      <td>Drake, 21 Savage</td>\n",
       "      <td>8</td>\n",
       "    </tr>\n",
       "  </tbody>\n",
       "</table>\n",
       "</div>"
      ],
      "text/plain": [
       "     artist(s)_name  count\n",
       "0      Taylor Swift     34\n",
       "1        The Weeknd     22\n",
       "2         Bad Bunny     19\n",
       "3               SZA     19\n",
       "4      Harry Styles     17\n",
       "5    Kendrick Lamar     12\n",
       "6     Morgan Wallen     11\n",
       "7        Ed Sheeran      9\n",
       "8              Feid      8\n",
       "9  Drake, 21 Savage      8"
      ]
     },
     "execution_count": 5,
     "metadata": {},
     "output_type": "execute_result"
    }
   ],
   "source": [
    "import matplotlib.pyplot as plt\n",
    "import seaborn as sns\n",
    "from pyspark.sql import functions as F\n",
    "\n",
    "limit = int(dbutils.widgets.get(\"limit\"))\n",
    "# Top 10 artists with most songs in the dataset\n",
    "top_artists = df.groupBy(\"artist(s)_name\").count().orderBy(F.desc(\"count\")).limit(limit).toPandas()\n",
    "\n",
    "# Plot\n",
    "plt.figure(figsize=(12, 6))\n",
    "sns.barplot(x=top_artists[\"artist(s)_name\"], y=top_artists[\"count\"], palette='viridis')\n",
    "plt.xlabel('Number of Songs')\n",
    "plt.ylabel('Artist(s) Name')\n",
    "plt.title('Top 10 Artists with Most Songs')\n",
    "plt.show()\n",
    "\n",
    "top_artists"
   ]
  },
  {
   "cell_type": "markdown",
   "metadata": {
    "application/vnd.databricks.v1+cell": {
     "cellMetadata": {},
     "inputWidgets": {},
     "nuid": "67ce1701-c6e4-42d3-b1f0-7a1b1d24e7c7",
     "showTitle": false,
     "title": ""
    }
   },
   "source": [
    "# Analyse data already in databricks"
   ]
  },
  {
   "cell_type": "code",
   "execution_count": 6,
   "metadata": {
    "application/vnd.databricks.v1+cell": {
     "cellMetadata": {
      "byteLimit": 2048000,
      "implicitDf": true,
      "rowLimit": 10000
     },
     "inputWidgets": {},
     "nuid": "1acd7bba-0099-4bdd-9016-8eeb17be8987",
     "showTitle": false,
     "title": ""
    }
   },
   "outputs": [
    {
     "name": "stderr",
     "output_type": "stream",
     "text": [
      "/Users/kartik.gupta/temp/notebook-test/.venv/lib/python3.11/site-packages/pyspark/sql/pandas/types.py:567: FutureWarning: is_datetime64tz_dtype is deprecated and will be removed in a future version. Check `isinstance(dtype, pd.DatetimeTZDtype)` instead.\n",
      "  if not is_datetime64tz_dtype(pser.dtype):\n",
      "/Users/kartik.gupta/temp/notebook-test/.venv/lib/python3.11/site-packages/pyspark/sql/pandas/types.py:386: FutureWarning: is_datetime64tz_dtype is deprecated and will be removed in a future version. Check `isinstance(dtype, pd.DatetimeTZDtype)` instead.\n",
      "  if is_datetime64tz_dtype(s.dtype):\n"
     ]
    },
    {
     "data": {
      "text/html": [
       "<table border=\"1\" class=\"dataframe\">\n",
       "  <thead>\n",
       "    <tr style=\"text-align: right;\">\n",
       "      <th></th>\n",
       "      <th>tpep_pickup_datetime</th>\n",
       "      <th>tpep_dropoff_datetime</th>\n",
       "      <th>trip_distance</th>\n",
       "      <th>fare_amount</th>\n",
       "      <th>pickup_zip</th>\n",
       "      <th>dropoff_zip</th>\n",
       "    </tr>\n",
       "  </thead>\n",
       "  <tbody>\n",
       "    <tr>\n",
       "      <th>0</th>\n",
       "      <td>2016-02-22 21:17:27</td>\n",
       "      <td>2016-02-22 22:00:58</td>\n",
       "      <td>30.60</td>\n",
       "      <td>95.0</td>\n",
       "      <td>11371</td>\n",
       "      <td>7114</td>\n",
       "    </tr>\n",
       "    <tr>\n",
       "      <th>1</th>\n",
       "      <td>2016-01-07 04:07:58</td>\n",
       "      <td>2016-01-07 04:43:08</td>\n",
       "      <td>26.30</td>\n",
       "      <td>0.0</td>\n",
       "      <td>10018</td>\n",
       "      <td>10606</td>\n",
       "    </tr>\n",
       "    <tr>\n",
       "      <th>2</th>\n",
       "      <td>2016-02-06 12:18:51</td>\n",
       "      <td>2016-02-06 13:03:53</td>\n",
       "      <td>25.80</td>\n",
       "      <td>71.0</td>\n",
       "      <td>11422</td>\n",
       "      <td>11218</td>\n",
       "    </tr>\n",
       "    <tr>\n",
       "      <th>3</th>\n",
       "      <td>2016-02-16 22:30:58</td>\n",
       "      <td>2016-02-16 23:24:47</td>\n",
       "      <td>25.55</td>\n",
       "      <td>73.5</td>\n",
       "      <td>10009</td>\n",
       "      <td>11050</td>\n",
       "    </tr>\n",
       "    <tr>\n",
       "      <th>4</th>\n",
       "      <td>2016-02-17 22:23:14</td>\n",
       "      <td>2016-02-17 23:06:15</td>\n",
       "      <td>25.46</td>\n",
       "      <td>130.0</td>\n",
       "      <td>10103</td>\n",
       "      <td>7901</td>\n",
       "    </tr>\n",
       "    <tr>\n",
       "      <th>5</th>\n",
       "      <td>2016-02-21 03:31:58</td>\n",
       "      <td>2016-02-21 03:32:28</td>\n",
       "      <td>25.00</td>\n",
       "      <td>0.0</td>\n",
       "      <td>10502</td>\n",
       "      <td>10502</td>\n",
       "    </tr>\n",
       "    <tr>\n",
       "      <th>6</th>\n",
       "      <td>2016-01-31 02:08:31</td>\n",
       "      <td>2016-01-31 02:47:55</td>\n",
       "      <td>24.70</td>\n",
       "      <td>67.0</td>\n",
       "      <td>10002</td>\n",
       "      <td>11694</td>\n",
       "    </tr>\n",
       "    <tr>\n",
       "      <th>7</th>\n",
       "      <td>2016-01-16 23:05:32</td>\n",
       "      <td>2016-01-16 23:43:37</td>\n",
       "      <td>24.50</td>\n",
       "      <td>65.0</td>\n",
       "      <td>11422</td>\n",
       "      <td>10463</td>\n",
       "    </tr>\n",
       "    <tr>\n",
       "      <th>8</th>\n",
       "      <td>2016-01-05 16:07:58</td>\n",
       "      <td>2016-01-05 17:48:29</td>\n",
       "      <td>24.50</td>\n",
       "      <td>82.5</td>\n",
       "      <td>11422</td>\n",
       "      <td>11213</td>\n",
       "    </tr>\n",
       "    <tr>\n",
       "      <th>9</th>\n",
       "      <td>2016-01-21 00:58:34</td>\n",
       "      <td>2016-01-21 01:33:10</td>\n",
       "      <td>24.50</td>\n",
       "      <td>94.5</td>\n",
       "      <td>11371</td>\n",
       "      <td>10601</td>\n",
       "    </tr>\n",
       "    <tr>\n",
       "      <th>10</th>\n",
       "      <td>2016-02-27 02:56:07</td>\n",
       "      <td>2016-02-27 03:27:41</td>\n",
       "      <td>24.49</td>\n",
       "      <td>70.0</td>\n",
       "      <td>10017</td>\n",
       "      <td>7423</td>\n",
       "    </tr>\n",
       "    <tr>\n",
       "      <th>11</th>\n",
       "      <td>2016-02-04 07:19:24</td>\n",
       "      <td>2016-02-04 08:40:55</td>\n",
       "      <td>24.46</td>\n",
       "      <td>75.5</td>\n",
       "      <td>11422</td>\n",
       "      <td>10463</td>\n",
       "    </tr>\n",
       "    <tr>\n",
       "      <th>12</th>\n",
       "      <td>2016-02-10 22:56:13</td>\n",
       "      <td>2016-02-10 23:26:44</td>\n",
       "      <td>24.40</td>\n",
       "      <td>84.5</td>\n",
       "      <td>11371</td>\n",
       "      <td>11575</td>\n",
       "    </tr>\n",
       "    <tr>\n",
       "      <th>13</th>\n",
       "      <td>2016-02-01 01:01:57</td>\n",
       "      <td>2016-02-01 01:31:40</td>\n",
       "      <td>24.20</td>\n",
       "      <td>63.0</td>\n",
       "      <td>11422</td>\n",
       "      <td>10468</td>\n",
       "    </tr>\n",
       "    <tr>\n",
       "      <th>14</th>\n",
       "      <td>2016-02-28 17:30:31</td>\n",
       "      <td>2016-02-28 18:32:18</td>\n",
       "      <td>23.50</td>\n",
       "      <td>67.0</td>\n",
       "      <td>11422</td>\n",
       "      <td>10463</td>\n",
       "    </tr>\n",
       "    <tr>\n",
       "      <th>15</th>\n",
       "      <td>2016-02-06 12:16:20</td>\n",
       "      <td>2016-02-06 12:53:51</td>\n",
       "      <td>23.45</td>\n",
       "      <td>52.0</td>\n",
       "      <td>11422</td>\n",
       "      <td>10013</td>\n",
       "    </tr>\n",
       "    <tr>\n",
       "      <th>16</th>\n",
       "      <td>2016-02-23 22:25:27</td>\n",
       "      <td>2016-02-23 23:20:51</td>\n",
       "      <td>23.10</td>\n",
       "      <td>52.0</td>\n",
       "      <td>10103</td>\n",
       "      <td>11422</td>\n",
       "    </tr>\n",
       "    <tr>\n",
       "      <th>17</th>\n",
       "      <td>2016-02-21 20:17:08</td>\n",
       "      <td>2016-02-21 21:13:58</td>\n",
       "      <td>23.00</td>\n",
       "      <td>65.0</td>\n",
       "      <td>10009</td>\n",
       "      <td>11236</td>\n",
       "    </tr>\n",
       "    <tr>\n",
       "      <th>18</th>\n",
       "      <td>2016-01-22 15:01:35</td>\n",
       "      <td>2016-01-22 16:27:31</td>\n",
       "      <td>22.90</td>\n",
       "      <td>93.5</td>\n",
       "      <td>11371</td>\n",
       "      <td>7114</td>\n",
       "    </tr>\n",
       "    <tr>\n",
       "      <th>19</th>\n",
       "      <td>2016-02-07 19:48:24</td>\n",
       "      <td>2016-02-07 20:25:16</td>\n",
       "      <td>22.60</td>\n",
       "      <td>52.0</td>\n",
       "      <td>11422</td>\n",
       "      <td>10019</td>\n",
       "    </tr>\n",
       "  </tbody>\n",
       "</table>"
      ],
      "text/plain": [
       "DataFrame[tpep_pickup_datetime: timestamp, tpep_dropoff_datetime: timestamp, trip_distance: double, fare_amount: double, pickup_zip: int, dropoff_zip: int]"
      ]
     },
     "execution_count": 6,
     "metadata": {},
     "output_type": "execute_result"
    }
   ],
   "source": [
    "%sql\n",
    "select * from samples.nyctaxi.trips\n",
    "order by trip_distance desc"
   ]
  },
  {
   "cell_type": "code",
   "execution_count": 7,
   "metadata": {
    "application/vnd.databricks.v1+cell": {
     "cellMetadata": {
      "byteLimit": 2048000,
      "rowLimit": 10000
     },
     "inputWidgets": {},
     "nuid": "97e4ac7e-db08-421e-885d-22547e8900e4",
     "showTitle": false,
     "title": ""
    }
   },
   "outputs": [],
   "source": [
    "limit = int(dbutils.widgets.get(\"limit\"))\n",
    "df = _sqldf.limit(limit)"
   ]
  },
  {
   "cell_type": "code",
   "execution_count": 8,
   "metadata": {
    "application/vnd.databricks.v1+cell": {
     "cellMetadata": {
      "byteLimit": 2048000,
      "rowLimit": 10000
     },
     "inputWidgets": {},
     "nuid": "0a5091ca-f3d1-4ec9-afa5-4dd84996c152",
     "showTitle": false,
     "title": ""
    }
   },
   "outputs": [
    {
     "data": {
      "image/png": "[encoded data removed]",
      "text/plain": [
       "<Figure size 1200x600 with 1 Axes>"
      ]
     },
     "metadata": {},
     "output_type": "display_data"
    }
   ],
   "source": [
    "import matplotlib.pyplot as plt\n",
    "import seaborn as sns\n",
    "from pyspark.sql import functions as F\n",
    "\n",
    "limit = int(dbutils.widgets.get(\"limit\"))\n",
    "pdf = _sqldf.select(\"trip_distance\").toPandas()\n",
    "\n",
    "# Plot\n",
    "plt.figure(figsize=(12, 6))\n",
    "sns.histplot(data=pdf, palette='viridis')\n",
    "plt.xlabel('Trip distance')\n",
    "plt.ylabel('# of trups')\n",
    "plt.title('Distribution of trips')\n",
    "plt.show()"
   ]
  },
  {
   "cell_type": "code",
   "execution_count": null,
   "metadata": {},
   "outputs": [],
   "source": []
  }
 ],
 "metadata": {
  "application/vnd.databricks.v1+notebook": {
   "dashboards": [],
   "language": "python",
   "notebookMetadata": {
    "mostRecentlyExecutedCommandWithImplicitDF": {
     "commandId": 4501659532676199,
     "dataframes": [
      "_sqldf"
     ]
    },
    "pythonIndentUnit": 2
   },
   "notebookName": "Test Notebook",
   "widgets": {
    "limit": {
     "currentValue": "10",
     "nuid": "64a30575-65cb-4a0f-943a-0103d5abecb0",
     "widgetInfo": {
      "defaultValue": "10",
      "label": null,
      "name": "limit",
      "options": {
       "validationRegex": null,
       "widgetType": "text"
      },
      "widgetType": "text"
     }
    }
   }
  },
  "kernelspec": {
   "display_name": ".venv",
   "language": "python",
   "name": "python3"
  },
  "language_info": {
   "codemirror_mode": {
    "name": "ipython",
    "version": 3
   },
   "file_extension": ".py",
   "mimetype": "text/x-python",
   "name": "python",
   "nbconvert_exporter": "python",
   "pygments_lexer": "ipython3",
   "version": "3.11.3"
  }
 },
 "nbformat": 4,
 "nbformat_minor": 0
}
